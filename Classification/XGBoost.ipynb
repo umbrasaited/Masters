{
  "cells": [
    {
      "cell_type": "code",
      "execution_count": null,
      "metadata": {
        "colab": {
          "base_uri": "https://localhost:8080/"
        },
        "id": "0XJT6wfo_Z2w",
        "outputId": "77e6664c-aea5-4304-94c0-7b38c775b323"
      },
      "outputs": [
        {
          "name": "stdout",
          "output_type": "stream",
          "text": [
            "Requirement already satisfied: xgboost in /usr/local/lib/python3.10/dist-packages (2.1.3)\n",
            "Requirement already satisfied: numpy in /usr/local/lib/python3.10/dist-packages (from xgboost) (1.26.4)\n",
            "Requirement already satisfied: nvidia-nccl-cu12 in /usr/local/lib/python3.10/dist-packages (from xgboost) (2.23.4)\n",
            "Requirement already satisfied: scipy in /usr/local/lib/python3.10/dist-packages (from xgboost) (1.13.1)\n"
          ]
        }
      ],
      "source": [
        "!pip install --upgrade xgboost"
      ]
    },
    {
      "cell_type": "code",
      "execution_count": null,
      "metadata": {
        "id": "d9219_gEyCNQ"
      },
      "outputs": [],
      "source": [
        "from google.colab import drive\n",
        "import pandas as pd\n",
        "import numpy as np\n",
        "from sklearn.model_selection import train_test_split\n",
        "from sklearn.metrics import accuracy_score, classification_report, f1_score, silhouette_score\n",
        "import xgboost as xgb\n",
        "from sklearn.preprocessing import LabelEncoder, StandardScaler\n",
        "import matplotlib.pyplot as plt\n",
        "from scipy.stats import entropy"
      ]
    },
    {
      "cell_type": "code",
      "execution_count": null,
      "metadata": {
        "colab": {
          "base_uri": "https://localhost:8080/"
        },
        "id": "GIg8fH-i_nUL",
        "outputId": "bb5a917b-0311-4279-a2bf-777b92e18fab"
      },
      "outputs": [
        {
          "name": "stdout",
          "output_type": "stream",
          "text": [
            "Mounted at /content/drive\n"
          ]
        }
      ],
      "source": [
        "# Mount Google Drive\n",
        "drive.mount('/content/drive')"
      ]
    },
    {
      "cell_type": "code",
      "execution_count": null,
      "metadata": {
        "id": "2Fws2vK2yX18"
      },
      "outputs": [],
      "source": [
        "# Load the training data\n",
        "df_train = pd.read_excel(\n",
        "    '/dataset.xlsx', # Path to the training dataset\n",
        "    engine='openpyxl')\n",
        "\n",
        "# Load the testing data\n",
        "df_test = pd.read_excel(\n",
        "    '/dataset.xlsx', # Path to the testing dataset\n",
        "    engine='openpyxl')\n",
        "\n",
        "# Corporate set features\n",
        "FEATURES = ['avg_monthly_cash_transaction_amount',\n",
        "        'avg_monthly_cash_transaction_count',\n",
        "        'sum_monthly_cash_transaction_amount',\n",
        "        'max_monthly_cash_transaction_amount',\n",
        "        'avg_monthly_cross_border_transaction_amount',\n",
        "        'avg_monthly_cross_border_transaction_count',\n",
        "        'sum_monthly_cross_border_transaction_amount',\n",
        "        'max_monthly_cross_border_transaction_amount',\n",
        "        'market_area',\n",
        "        'industry_group',\n",
        "        'turnover_bucket',\n",
        "        'company_size_M']\n",
        "\n",
        "# Retail set features\n",
        "'''\n",
        "FEATURES = ['avg_monthly_cash_transaction_amount',\n",
        "        'avg_monthly_cash_transaction_count',\n",
        "        'sum_monthly_cash_transaction_amount',\n",
        "        'max_monthly_cash_transaction_amount',\n",
        "        'avg_monthly_cross_border_transaction_amount',\n",
        "        'avg_monthly_cross_border_transaction_count',\n",
        "        'sum_monthly_cross_border_transaction_amount',\n",
        "        'max_monthly_cross_border_transaction_amount',\n",
        "        'market_area',\n",
        "        'turnover_bucket',\n",
        "        'age_group']\n",
        "'''\n",
        "\n",
        "# Function to prepare features\n",
        "def prepare_features(df):\n",
        "    # Create a copy to avoid modifying the original dataframe\n",
        "    df_processed = df.copy()\n",
        "\n",
        "    # Print number of records before feature preparation\n",
        "    print(f\"Number of records before feature preparation: {len(df_processed)}\")\n",
        "\n",
        "    # Check for missing values\n",
        "    missing_values = df_processed[FEATURES].isnull().sum()\n",
        "    if missing_values.any():\n",
        "        print(\"\\nMissing values in features:\")\n",
        "        print(missing_values[missing_values > 0])\n",
        "\n",
        "    # Include all features\n",
        "    features = df_processed[FEATURES]\n",
        "\n",
        "    # Convert all columns to float\n",
        "    features = features.astype(float)\n",
        "\n",
        "    # Print number of records after feature preparation\n",
        "    print(f\"Number of records after feature preparation: {len(features)}\")\n",
        "\n",
        "    return features"
      ]
    },
    {
      "cell_type": "code",
      "execution_count": null,
      "metadata": {
        "colab": {
          "base_uri": "https://localhost:8080/"
        },
        "id": "z9NT-ugx_ScN",
        "outputId": "98f78441-b975-4439-fce1-249a0ba4c7cc"
      },
      "outputs": [],
      "source": [
        "# Prepare features separately for training and test data\n",
        "print(\"\\nPreparing training features:\")\n",
        "X_train = prepare_features(df_train)\n",
        "print(\"\\nPreparing test features:\")\n",
        "X_test = prepare_features(df_test)\n",
        "\n",
        "# Prepare labels for training data\n",
        "y_train = df_train['Segment']\n",
        "\n",
        "# Encode target variable to start from 0\n",
        "target_encoder = LabelEncoder()\n",
        "y_train_encoded = target_encoder.fit_transform(y_train)\n",
        "\n",
        "# Get number of unique classes\n",
        "n_classes = len(np.unique(y_train_encoded))\n",
        "\n",
        "# Split training data for validation\n",
        "X_train_split, X_val, y_train_split, y_val = train_test_split(\n",
        "    X_train, y_train_encoded, test_size=0.2, random_state=42\n",
        ")\n",
        "\n",
        "xgb_clf = xgb.XGBClassifier(\n",
        "    reg_lambda=1.0,  # L2 regularization\n",
        "    reg_alpha=0.1,   # L1 regularization\n",
        "    max_depth=2,     # Reduce to limit model complexity\n",
        "    min_child_weight=3,  # Increase to prevent over-specialization\n",
        "    objective='multi:softmax',\n",
        "    num_class=n_classes,\n",
        "    random_state=42,\n",
        "    learning_rate=0.1,\n",
        "    n_estimators=500,  # Increased max iterations since using early stopping\n",
        "    eval_metric='mlogloss',\n",
        "    early_stopping_rounds=10  # Stop if no improvement for 10 rounds\n",
        ")\n",
        "\n",
        "# Train the model with early stopping\n",
        "xgb_clf.fit(\n",
        "    X_train_split,\n",
        "    y_train_split,\n",
        "    eval_set=[(X_train_split, y_train_split), (X_val, y_val)],\n",
        "    verbose=True\n",
        ")\n",
        "\n",
        "# Print best iteration information\n",
        "print(f\"\\nBest iteration found: {xgb_clf.best_iteration}\")\n",
        "print(f\"Best validation score: {xgb_clf.best_score}\")\n",
        "\n",
        "# Make predictions on validation set\n",
        "y_val_pred = xgb_clf.predict(X_val)\n",
        "\n",
        "# Convert predictions back to original labels for reporting\n",
        "y_val_orig = target_encoder.inverse_transform(y_val)\n",
        "y_val_pred_orig = target_encoder.inverse_transform(y_val_pred)\n",
        "\n",
        "# Print metrics for validation set\n",
        "print(\"\\nValidation Metrics:\")\n",
        "print(\"Accuracy:\", accuracy_score(y_val_orig, y_val_pred_orig))\n",
        "print(\"\\nClassification Report:\")\n",
        "print(classification_report(y_val_orig, y_val_pred_orig))\n",
        "print(\"\\nMacro F1 Score:\", f1_score(y_val_orig, y_val_pred_orig, average='macro'))\n",
        "\n",
        "# Make predictions on test set\n",
        "y_test_pred = xgb_clf.predict(X_test)\n",
        "\n",
        "# Convert predictions back to original labels\n",
        "y_test_pred_orig = target_encoder.inverse_transform(y_test_pred)\n",
        "\n",
        "# Save predictions to a DataFrame\n",
        "predictions_df = pd.DataFrame({\n",
        "    'Predicted_Segment': y_test_pred_orig\n",
        "})\n",
        "\n",
        "# Feature importance analysis\n",
        "feature_importance = pd.DataFrame({\n",
        "    'feature': X_train.columns,\n",
        "    'importance': xgb_clf.feature_importances_\n",
        "})\n",
        "feature_importance = feature_importance.sort_values('importance', ascending=False)\n",
        "print(\"\\nTop 3 Most Important Features:\")\n",
        "print(feature_importance.head(3))"
      ]
    },
    {
      "cell_type": "code",
      "execution_count": null,
      "metadata": {
        "colab": {
          "base_uri": "https://localhost:8080/"
        },
        "id": "2oyZf3lB6x5W",
        "outputId": "a621cafa-39a9-454d-8ca9-dd28f2fcc636"
      },
      "outputs": [
        {
          "name": "stdout",
          "output_type": "stream",
          "text": [
            "\n",
            "Test Set Segment Distribution:\n",
            "                   Count  Percentage\n",
            "Predicted_Segment                   \n",
            "1                  34155       69.65\n",
            "2                  14882       30.35\n",
            "\n",
            "Number of predictions made: 49037\n",
            "Original test set size: 49037\n"
          ]
        }
      ],
      "source": [
        "# Make predictions on test set\n",
        "y_test_pred = xgb_clf.predict(X_test)\n",
        "\n",
        "# Convert predictions back to original labels\n",
        "y_test_pred_orig = target_encoder.inverse_transform(y_test_pred)\n",
        "\n",
        "# Create distribution analysis for test predictions\n",
        "test_distribution = pd.DataFrame({\n",
        "    'Predicted_Segment': y_test_pred_orig\n",
        "})\n",
        "\n",
        "# Calculate and print segment distribution\n",
        "print(\"\\nTest Set Segment Distribution:\")\n",
        "segment_counts = test_distribution['Predicted_Segment'].value_counts()\n",
        "segment_percentages = test_distribution['Predicted_Segment'].value_counts(normalize=True) * 100\n",
        "\n",
        "distribution_summary = pd.DataFrame({\n",
        "    'Count': segment_counts,\n",
        "    'Percentage': segment_percentages\n",
        "}).round(2)\n",
        "\n",
        "print(distribution_summary)\n",
        "\n",
        "# Verify final prediction count\n",
        "print(f\"\\nNumber of predictions made: {len(y_test_pred_orig)}\")\n",
        "print(f\"Original test set size: {len(df_test)}\")\n",
        "\n",
        "# Save predictions with original indices\n",
        "predictions_df = pd.DataFrame({\n",
        "    'Predicted_Segment': y_test_pred_orig\n",
        "}, index=df_test.index)"
      ]
    },
    {
      "cell_type": "code",
      "execution_count": null,
      "metadata": {
        "colab": {
          "base_uri": "https://localhost:8080/",
          "height": 804
        },
        "id": "b9XZp339BEF7",
        "outputId": "a7ea04d6-321b-475e-b0fd-0cb25fd17310"
      },
      "outputs": [
        {
          "name": "stdout",
          "output_type": "stream",
          "text": [
            "\n",
            "Training Set Segment Distribution (for comparison):\n",
            "         Count  Percentage\n",
            "Segment                   \n",
            "1        33774       50.18\n",
            "2        33537       49.82\n",
            "\n",
            "Comparison of Segment Distributions (Training vs Test):\n",
            "   Train_Count  Train_Percentage  Test_Count  Test_Percentage\n",
            "1        33774             50.18       34155            69.65\n",
            "2        33537             49.82       14882            30.35\n"
          ]
        },
        {
          "data": {
            "image/png": "[encoded data removed]",
            "text/plain": [
              "<Figure size 1200x600 with 2 Axes>"
            ]
          },
          "metadata": {},
          "output_type": "display_data"
        }
      ],
      "source": [
        "# Compare with training distribution\n",
        "print(\"\\nTraining Set Segment Distribution (for comparison):\")\n",
        "train_distribution = pd.DataFrame({\n",
        "    'Segment': y_train\n",
        "})\n",
        "train_segment_counts = train_distribution['Segment'].value_counts()\n",
        "train_segment_percentages = train_distribution['Segment'].value_counts(normalize=True) * 100\n",
        "\n",
        "train_distribution_summary = pd.DataFrame({\n",
        "    'Count': train_segment_counts,\n",
        "    'Percentage': train_segment_percentages\n",
        "}).round(2)\n",
        "\n",
        "print(train_distribution_summary)\n",
        "\n",
        "# Create a side-by-side comparison\n",
        "comparison_df = pd.DataFrame({\n",
        "    'Train_Count': train_segment_counts,\n",
        "    'Train_Percentage': train_segment_percentages,\n",
        "    'Test_Count': segment_counts,\n",
        "    'Test_Percentage': segment_percentages\n",
        "}).round(2)\n",
        "\n",
        "print(\"\\nComparison of Segment Distributions (Training vs Test):\")\n",
        "print(comparison_df)\n",
        "\n",
        "# Visualize the comparison\n",
        "plt.figure(figsize=(12, 6))\n",
        "plt.subplot(1, 2, 1)\n",
        "train_distribution['Segment'].value_counts().plot(kind='bar')\n",
        "plt.title('Training Set Distribution')\n",
        "plt.xlabel('Segment')\n",
        "plt.ylabel('Count')\n",
        "plt.xticks(rotation=45)\n",
        "\n",
        "plt.subplot(1, 2, 2)\n",
        "test_distribution['Predicted_Segment'].value_counts().plot(kind='bar')\n",
        "plt.title('Test Set Distribution')\n",
        "plt.xlabel('Segment')\n",
        "plt.ylabel('Count')\n",
        "plt.xticks(rotation=45)\n",
        "\n",
        "plt.tight_layout()\n",
        "plt.show()"
      ]
    },
    {
      "cell_type": "code",
      "execution_count": null,
      "metadata": {
        "colab": {
          "base_uri": "https://localhost:8080/",
          "height": 868
        },
        "id": "D5wtmITGB1-O",
        "outputId": "b1d64334-1536-4a4a-a4e8-19254840f33a"
      },
      "outputs": [],
      "source": [
        "# Standardize features for distance-based metrics\n",
        "scaler = StandardScaler()\n",
        "X_test_scaled = scaler.fit_transform(X_test)\n",
        "\n",
        "# 1. Calculate Silhouette Score\n",
        "silhouette_avg = silhouette_score(X_test_scaled, y_test_pred)\n",
        "\n",
        "# 2. Calculate cluster-specific metrics\n",
        "def calculate_cluster_metrics(X, labels):\n",
        "    n_clusters = len(np.unique(labels))\n",
        "    cluster_centers = np.array([X[labels == i].mean(axis=0) for i in range(n_clusters)])\n",
        "\n",
        "    # Within-cluster sum of squares\n",
        "    wcss = np.zeros(n_clusters)\n",
        "    for i in range(n_clusters):\n",
        "        cluster_points = X[labels == i]\n",
        "        if len(cluster_points) > 0:\n",
        "            wcss[i] = np.sum((cluster_points - cluster_centers[i]) ** 2)\n",
        "\n",
        "    # Between-cluster distances\n",
        "    between_cluster_dist = np.zeros((n_clusters, n_clusters))\n",
        "    for i in range(n_clusters):\n",
        "        for j in range(i + 1, n_clusters):\n",
        "            dist = np.linalg.norm(cluster_centers[i] - cluster_centers[j])\n",
        "            between_cluster_dist[i, j] = dist\n",
        "            between_cluster_dist[j, i] = dist\n",
        "\n",
        "    return wcss, between_cluster_dist, cluster_centers\n",
        "\n",
        "wcss, between_cluster_dist, cluster_centers = calculate_cluster_metrics(X_test_scaled, y_test_pred)\n",
        "\n",
        "# 3. Calculate distribution entropy\n",
        "cluster_proportions = np.unique(y_test_pred, return_counts=True)[1] / len(y_test_pred)\n",
        "distribution_entropy = entropy(cluster_proportions)\n",
        "\n",
        "# Print all metrics\n",
        "print(\"\\nUnsupervised Evaluation Metrics:\")\n",
        "print(f\"Silhouette Score: {silhouette_avg:.4f}\")\n",
        "print(f\"\\nWithin-cluster sum of squares for each cluster:\")\n",
        "for i, score in enumerate(wcss):\n",
        "    print(f\"Cluster {i+1}: {score:.4f}\")\n",
        "\n",
        "print(f\"\\nBetween-cluster distances:\")\n",
        "print(between_cluster_dist)\n",
        "\n",
        "print(f\"\\nDistribution Entropy: {distribution_entropy:.4f}\")\n",
        "\n",
        "# Calculate and print average distance to cluster center for each cluster\n",
        "print(\"\\nAverage distance to cluster center:\")\n",
        "for i in range(len(np.unique(y_test_pred))):\n",
        "    cluster_points = X_test_scaled[y_test_pred == i]\n",
        "    if len(cluster_points) > 0:\n",
        "        avg_dist = np.mean(np.linalg.norm(cluster_points - cluster_centers[i], axis=1))\n",
        "        print(f\"Cluster {i+1}: {avg_dist:.4f}\")"
      ]
    }
  ],
  "metadata": {
    "accelerator": "GPU",
    "colab": {
      "gpuType": "L4",
      "machine_shape": "hm",
      "provenance": []
    },
    "kernelspec": {
      "display_name": "Python 3",
      "name": "python3"
    },
    "language_info": {
      "name": "python"
    }
  },
  "nbformat": 4,
  "nbformat_minor": 0
}
