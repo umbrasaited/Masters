{
 "cells": [
  {
   "cell_type": "code",
   "execution_count": null,
   "metadata": {},
   "outputs": [],
   "source": [
    "from google.colab import drive\n",
    "import matplotlib.pyplot as plt\n",
    "import numpy as np\n",
    "import pandas as pd\n",
    "import seaborn as sns"
   ]
  },
  {
   "cell_type": "code",
   "execution_count": null,
   "metadata": {},
   "outputs": [],
   "source": [
    "# Mount Google Drive\n",
    "# Required if working with files stored in Google Drive\n",
    "drive.mount('/content/drive')"
   ]
  },
  {
   "cell_type": "markdown",
   "metadata": {},
   "source": [
    "This comprehensive data read step is performed when the input data file is read, to make sure that there are no missing values or values of a wrong type.\n",
    "It is performed before any model initialization. "
   ]
  },
  {
   "cell_type": "code",
   "execution_count": null,
   "metadata": {},
   "outputs": [],
   "source": [
    "file_path = '/dataset.xlsx' # Path to the Excel file in Google Drive\n",
    "# Read the Excel file\n",
    "df = pd.read_excel(file_path)\n",
    "\n",
    "# Select numerical columns\n",
    "\n",
    "numerical_columns = [\n",
    "      'avg_monthly_cash_transaction_amount',\n",
    "      'avg_monthly_cash_transaction_count',\n",
    "      'sum_monthly_cash_transaction_amount',\n",
    "      'max_monthly_cash_transaction_amount',\n",
    "      'avg_monthly_cross_border_transaction_amount',\n",
    "      'avg_monthly_cross_border_transaction_count',\n",
    "      'sum_monthly_cross_border_transaction_amount',\n",
    "      'max_monthly_cross_border_transaction_amount'\n",
    "  ]\n",
    "\n",
    "\n",
    "# Add encoded categorical columns\n",
    "categorical_columns = ['market_area', 'industry_group', 'turnover_bucket', 'company_size_M']\n",
    "all_features = numerical_columns + categorical_columns\n",
    "\n",
    "# Prepare the feature matrix\n",
    "X = df[all_features]\n",
    "\n",
    "# Data validation and preprocessing\n",
    "print(\"Data validation steps:\")\n",
    "print(f\"Shape of data: {X.shape}\")\n",
    "print(\"\\nChecking for NaN values:\")\n",
    "nan_check = X.isna().sum()\n",
    "print(nan_check)\n",
    "\n",
    "# Check for infinite values\n",
    "inf_check = np.isinf(X).sum()\n",
    "print(\"\\nChecking for infinite values:\")\n",
    "print(inf_check)\n",
    "\n",
    "# Replace any infinite values with large finite numbers\n",
    "X = X.replace([np.inf, -np.inf], np.finfo(np.float64).max)\n",
    "\n",
    "# Handle any remaining NaN values (if they exist)\n",
    "X = X.fillna(X.mean())\n",
    "\n",
    "# Verify data is clean\n",
    "if X.isna().any().any() or np.isinf(X).any().any():\n",
    "    raise ValueError(\"Data still contains NaN or infinite values after preprocessing\")\n",
    "\n",
    "print(\"\\nData types of columns:\")\n",
    "print(X.dtypes)\n",
    "\n",
    "# Convert all columns to float64 if they aren't already\n",
    "X = X.astype(float)"
   ]
  }
 ],
 "metadata": {
  "language_info": {
   "name": "python"
  }
 },
 "nbformat": 4,
 "nbformat_minor": 2
}
